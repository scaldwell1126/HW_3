{
 "cells": [
  {
   "cell_type": "code",
   "execution_count": 1,
   "metadata": {},
   "outputs": [
    {
     "data": {
      "text/html": [
       "<div>\n",
       "<style scoped>\n",
       "    .dataframe tbody tr th:only-of-type {\n",
       "        vertical-align: middle;\n",
       "    }\n",
       "\n",
       "    .dataframe tbody tr th {\n",
       "        vertical-align: top;\n",
       "    }\n",
       "\n",
       "    .dataframe thead th {\n",
       "        text-align: right;\n",
       "    }\n",
       "</style>\n",
       "<table border=\"1\" class=\"dataframe\">\n",
       "  <thead>\n",
       "    <tr style=\"text-align: right;\">\n",
       "      <th></th>\n",
       "      <th>Date</th>\n",
       "      <th>Profit/Losses</th>\n",
       "    </tr>\n",
       "  </thead>\n",
       "  <tbody>\n",
       "    <tr>\n",
       "      <th>0</th>\n",
       "      <td>Jan-2010</td>\n",
       "      <td>867884</td>\n",
       "    </tr>\n",
       "    <tr>\n",
       "      <th>1</th>\n",
       "      <td>Feb-2010</td>\n",
       "      <td>984655</td>\n",
       "    </tr>\n",
       "    <tr>\n",
       "      <th>2</th>\n",
       "      <td>Mar-2010</td>\n",
       "      <td>322013</td>\n",
       "    </tr>\n",
       "    <tr>\n",
       "      <th>3</th>\n",
       "      <td>Apr-2010</td>\n",
       "      <td>-69417</td>\n",
       "    </tr>\n",
       "    <tr>\n",
       "      <th>4</th>\n",
       "      <td>May-2010</td>\n",
       "      <td>310503</td>\n",
       "    </tr>\n",
       "  </tbody>\n",
       "</table>\n",
       "</div>"
      ],
      "text/plain": [
       "       Date  Profit/Losses\n",
       "0  Jan-2010         867884\n",
       "1  Feb-2010         984655\n",
       "2  Mar-2010         322013\n",
       "3  Apr-2010         -69417\n",
       "4  May-2010         310503"
      ]
     },
     "execution_count": 1,
     "metadata": {},
     "output_type": "execute_result"
    }
   ],
   "source": [
    "import pandas as pd\n",
    "import numpy as np\n",
    "import datetime as dt\n",
    "file = \"Resources/budget_data.csv\"\n",
    "\n",
    "df = pd.read_csv(file)\n",
    "df.head()\n"
   ]
  },
  {
   "cell_type": "code",
   "execution_count": 4,
   "metadata": {},
   "outputs": [],
   "source": [
    "unique_date = df[\"Date\"].unique()"
   ]
  },
  {
   "cell_type": "code",
   "execution_count": 5,
   "metadata": {},
   "outputs": [
    {
     "data": {
      "text/plain": [
       "Date             86\n",
       "Profit/Losses    86\n",
       "dtype: int64"
      ]
     },
     "execution_count": 5,
     "metadata": {},
     "output_type": "execute_result"
    }
   ],
   "source": [
    "df.count()"
   ]
  },
  {
   "cell_type": "code",
   "execution_count": 6,
   "metadata": {},
   "outputs": [
    {
     "data": {
      "text/plain": [
       "Date             object\n",
       "Profit/Losses     int64\n",
       "dtype: object"
      ]
     },
     "execution_count": 6,
     "metadata": {},
     "output_type": "execute_result"
    }
   ],
   "source": [
    "df.dtypes"
   ]
  },
  {
   "cell_type": "code",
   "execution_count": 7,
   "metadata": {},
   "outputs": [
    {
     "data": {
      "text/plain": [
       "array(['Jan-2010', 'Feb-2010', 'Mar-2010', 'Apr-2010', 'May-2010',\n",
       "       'Jun-2010', 'Jul-2010', 'Aug-2010', 'Sep-2010', 'Oct-2010',\n",
       "       'Nov-2010', 'Dec-2010', 'Jan-2011', 'Feb-2011', 'Mar-2011',\n",
       "       'Apr-2011', 'May-2011', 'Jun-2011', 'Jul-2011', 'Aug-2011',\n",
       "       'Sep-2011', 'Oct-2011', 'Nov-2011', 'Dec-2011', 'Jan-2012',\n",
       "       'Feb-2012', 'Mar-2012', 'Apr-2012', 'May-2012', 'Jun-2012',\n",
       "       'Jul-2012', 'Aug-2012', 'Sep-2012', 'Oct-2012', 'Nov-2012',\n",
       "       'Dec-2012', 'Jan-2013', 'Feb-2013', 'Mar-2013', 'Apr-2013',\n",
       "       'May-2013', 'Jun-2013', 'Jul-2013', 'Aug-2013', 'Sep-2013',\n",
       "       'Oct-2013', 'Nov-2013', 'Dec-2013', 'Jan-2014', 'Feb-2014',\n",
       "       'Mar-2014', 'Apr-2014', 'May-2014', 'Jun-2014', 'Jul-2014',\n",
       "       'Aug-2014', 'Sep-2014', 'Oct-2014', 'Nov-2014', 'Dec-2014',\n",
       "       'Jan-2015', 'Feb-2015', 'Mar-2015', 'Apr-2015', 'May-2015',\n",
       "       'Jun-2015', 'Jul-2015', 'Aug-2015', 'Sep-2015', 'Oct-2015',\n",
       "       'Nov-2015', 'Dec-2015', 'Jan-2016', 'Feb-2016', 'Mar-2016',\n",
       "       'Apr-2016', 'May-2016', 'Jun-2016', 'Jul-2016', 'Aug-2016',\n",
       "       'Sep-2016', 'Oct-2016', 'Nov-2016', 'Dec-2016', 'Jan-2017',\n",
       "       'Feb-2017'], dtype=object)"
      ]
     },
     "execution_count": 7,
     "metadata": {},
     "output_type": "execute_result"
    }
   ],
   "source": [
    "df['Date'].unique()"
   ]
  },
  {
   "cell_type": "code",
   "execution_count": 8,
   "metadata": {},
   "outputs": [],
   "source": [
    "df['Date'] = pd.to_datetime(df['Date'])   "
   ]
  },
  {
   "cell_type": "code",
   "execution_count": 9,
   "metadata": {},
   "outputs": [
    {
     "data": {
      "text/plain": [
       "86"
      ]
     },
     "execution_count": 9,
     "metadata": {},
     "output_type": "execute_result"
    }
   ],
   "source": [
    "total_months = df['Date'].nunique()\n",
    "total_months"
   ]
  },
  {
   "cell_type": "code",
   "execution_count": 19,
   "metadata": {},
   "outputs": [
    {
     "data": {
      "text/plain": [
       "38382578"
      ]
     },
     "execution_count": 19,
     "metadata": {},
     "output_type": "execute_result"
    }
   ],
   "source": [
    "total = df['Profit/Losses'].sum()\n",
    "total\n"
   ]
  },
  {
   "cell_type": "code",
   "execution_count": 47,
   "metadata": {},
   "outputs": [
    {
     "data": {
      "text/plain": [
       "1170593"
      ]
     },
     "execution_count": 47,
     "metadata": {},
     "output_type": "execute_result"
    }
   ],
   "source": []
  },
  {
   "cell_type": "code",
   "execution_count": 11,
   "metadata": {},
   "outputs": [],
   "source": [
    "df['Change'] = df['Profit/Losses'].diff()#.fillna(df['Profit/Losses'])"
   ]
  },
  {
   "cell_type": "code",
   "execution_count": 12,
   "metadata": {},
   "outputs": [
    {
     "data": {
      "text/plain": [
       "0           NaN\n",
       "1      116771.0\n",
       "2     -662642.0\n",
       "3     -391430.0\n",
       "4      379920.0\n",
       "5      212354.0\n",
       "6      510239.0\n",
       "7     -428211.0\n",
       "8     -821271.0\n",
       "9      693918.0\n",
       "10     416278.0\n",
       "11    -974163.0\n",
       "12     860159.0\n",
       "13   -1115009.0\n",
       "14    1033048.0\n",
       "15      95318.0\n",
       "16    -308093.0\n",
       "17      99052.0\n",
       "18    -521393.0\n",
       "19     605450.0\n",
       "20     231727.0\n",
       "21     -65187.0\n",
       "22    -702716.0\n",
       "23     177975.0\n",
       "24   -1065544.0\n",
       "25    1926159.0\n",
       "26    -917805.0\n",
       "27     898730.0\n",
       "28    -334262.0\n",
       "29    -246499.0\n",
       "        ...    \n",
       "56     365942.0\n",
       "57    -219310.0\n",
       "58    -368665.0\n",
       "59     409837.0\n",
       "60     151210.0\n",
       "61    -110244.0\n",
       "62    -341938.0\n",
       "63   -1212159.0\n",
       "64     683246.0\n",
       "65     -70825.0\n",
       "66     335594.0\n",
       "67     417334.0\n",
       "68    -272194.0\n",
       "69    -236462.0\n",
       "70     657432.0\n",
       "71    -211262.0\n",
       "72    -128237.0\n",
       "73   -1750387.0\n",
       "74     925441.0\n",
       "75     932089.0\n",
       "76    -311434.0\n",
       "77     267252.0\n",
       "78   -1876758.0\n",
       "79    1733696.0\n",
       "80     198551.0\n",
       "81    -665765.0\n",
       "82     693229.0\n",
       "83    -734926.0\n",
       "84      77242.0\n",
       "85     532869.0\n",
       "Name: Change, Length: 86, dtype: float64"
      ]
     },
     "execution_count": 12,
     "metadata": {},
     "output_type": "execute_result"
    }
   ],
   "source": [
    "df['Change']"
   ]
  },
  {
   "cell_type": "code",
   "execution_count": 13,
   "metadata": {},
   "outputs": [
    {
     "data": {
      "text/plain": [
       "1926159.0"
      ]
     },
     "execution_count": 13,
     "metadata": {},
     "output_type": "execute_result"
    }
   ],
   "source": [
    "greatest_increase = df['Change'].max()\n",
    "greatest_increase"
   ]
  },
  {
   "cell_type": "code",
   "execution_count": 45,
   "metadata": {
    "collapsed": true
   },
   "outputs": [
    {
     "ename": "SyntaxError",
     "evalue": "invalid syntax (<ipython-input-45-04aca2a76c00>, line 5)",
     "output_type": "error",
     "traceback": [
      "\u001b[0;36m  File \u001b[0;32m\"<ipython-input-45-04aca2a76c00>\"\u001b[0;36m, line \u001b[0;32m5\u001b[0m\n\u001b[0;31m    print moving_average(average, 3)\u001b[0m\n\u001b[0m                       ^\u001b[0m\n\u001b[0;31mSyntaxError\u001b[0m\u001b[0;31m:\u001b[0m invalid syntax\n"
     ]
    }
   ],
   "source": [
    "\n",
    "\n",
    "        "
   ]
  },
  {
   "cell_type": "code",
   "execution_count": 15,
   "metadata": {},
   "outputs": [
    {
     "data": {
      "text/plain": [
       "-2196167.0"
      ]
     },
     "execution_count": 15,
     "metadata": {},
     "output_type": "execute_result"
    }
   ],
   "source": [
    "greatest_decrease = df['Change'].min()\n",
    "greatest_decrease"
   ]
  },
  {
   "cell_type": "code",
   "execution_count": 17,
   "metadata": {},
   "outputs": [
    {
     "data": {
      "text/plain": [
       "-2315.1176470588234"
      ]
     },
     "execution_count": 17,
     "metadata": {},
     "output_type": "execute_result"
    }
   ],
   "source": [
    "average_change = df['Change'].mean()\n",
    "average_change"
   ]
  },
  {
   "cell_type": "code",
   "execution_count": 20,
   "metadata": {},
   "outputs": [
    {
     "name": "stdout",
     "output_type": "stream",
     "text": [
      "Financial Analysis\n",
      "--------------------------------\n",
      "Total Months: 86\n",
      "Total: 38382578\n",
      "Average Change: -2315.1176470588234\n",
      "Greatest Increase in Profits: 1926159.0\n",
      "Greatest Decrease in Profits: -2196167.0\n"
     ]
    }
   ],
   "source": [
    "#Financial_Analysis_Output \n",
    "print('Financial Analysis')\n",
    "print(\"--------------------------------\")\n",
    "print(f\"Total Months: \" + str(total_months))\n",
    "print(f\"Total: \" + str(total))\n",
    "print(f\"Average Change: \" + str(average_change))\n",
    "print(f\"Greatest Increase in Profits: \" + str(greatest_increase))\n",
    "print(f\"Greatest Decrease in Profits: \" + str(greatest_decrease))"
   ]
  },
  {
   "cell_type": "code",
   "execution_count": null,
   "metadata": {},
   "outputs": [],
   "source": []
  },
  {
   "cell_type": "code",
   "execution_count": null,
   "metadata": {},
   "outputs": [],
   "source": []
  },
  {
   "cell_type": "code",
   "execution_count": null,
   "metadata": {},
   "outputs": [],
   "source": []
  },
  {
   "cell_type": "code",
   "execution_count": null,
   "metadata": {},
   "outputs": [],
   "source": []
  },
  {
   "cell_type": "code",
   "execution_count": null,
   "metadata": {},
   "outputs": [],
   "source": []
  },
  {
   "cell_type": "code",
   "execution_count": null,
   "metadata": {},
   "outputs": [],
   "source": []
  },
  {
   "cell_type": "code",
   "execution_count": null,
   "metadata": {},
   "outputs": [],
   "source": []
  }
 ],
 "metadata": {
  "kernelspec": {
   "display_name": "Python 3",
   "language": "python",
   "name": "python3"
  },
  "language_info": {
   "codemirror_mode": {
    "name": "ipython",
    "version": 3
   },
   "file_extension": ".py",
   "mimetype": "text/x-python",
   "name": "python",
   "nbconvert_exporter": "python",
   "pygments_lexer": "ipython3",
   "version": "3.7.1"
  }
 },
 "nbformat": 4,
 "nbformat_minor": 2
}
